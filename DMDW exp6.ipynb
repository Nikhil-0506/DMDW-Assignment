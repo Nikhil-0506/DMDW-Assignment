{
 "cells": [
  {
   "cell_type": "code",
   "execution_count": 1,
   "id": "311419f6",
   "metadata": {},
   "outputs": [
    {
     "name": "stdout",
     "output_type": "stream",
     "text": [
      "C1 (Candidate 1-Itemsets):\n",
      "['M', 'O', 'N', 'K', 'E', 'Y', 'D', 'A', 'U', 'C', 'I']\n",
      "\n",
      "L1 (Frequent 1-Itemsets):\n",
      "{'M': 3, 'O': 4, 'K': 5, 'E': 4, 'Y': 3}\n"
     ]
    }
   ],
   "source": [
    "from itertools import combinations\n",
    "from collections import defaultdict\n",
    "transactions = [\n",
    "    ['M', 'O', 'N','K','E','Y'],\n",
    "\n",
    "    ['D', 'O', 'N','K','E','Y'],\n",
    "\n",
    "    ['M', 'A', 'K','E'],\n",
    "\n",
    "    ['M', 'U','C','K','Y'],\n",
    "\n",
    "    ['C','O','O','K','I','E'],\n",
    "]\n",
    "min_support = 3 \n",
    "item_counts = defaultdict(int)\n",
    "for transaction in transactions:\n",
    "    for item in transaction:\n",
    "        item_counts[item] += 1\n",
    "L1 = {item: count for item, count in item_counts.items() if count >= min_support}\n",
    "C1 = list(item_counts.keys())\n",
    "print(\"C1 (Candidate 1-Itemsets):\")\n",
    "print(C1)\n",
    "print(\"\\nL1 (Frequent 1-Itemsets):\")\n",
    "print(L1)"
   ]
  },
  {
   "cell_type": "code",
   "execution_count": null,
   "id": "240609f5",
   "metadata": {},
   "outputs": [],
   "source": [
    "from itertools import combinations\n",
    "\n",
    "from collections import defaultdict\n",
    "\n",
    "transactions = [\n",
    "    ['M', 'O', 'N','K','E','Y'],\n",
    "\n",
    "    ['D', 'O', 'N','K','E','Y'],\n",
    "\n",
    "    ['M', 'A', 'K','E'],\n",
    "\n",
    "    ['M', 'U','C','K','Y'],\n",
    "\n",
    "    ['C','O','O','K','I','E'],\n",
    "]\n",
    "min_support = 3  \n",
    "item_counts = defaultdict(int)\n",
    "for transaction in transactions:\n",
    "    for item in transaction:\n",
    "        item_counts[item] += 1\n",
    "\n",
    "L1 = {item: count for item, count in item_counts.items() if count >= min_support}\n",
    "\n",
    "C2 = list(combinations(L1.keys(), 2))\n",
    "\n",
    "C2_counts = defaultdict(int)\n",
    "\n",
    "for transaction in transactions:\n",
    "\n",
    "    for itemset in C2:\n",
    "\n",
    "        if all(item in transaction for item in itemset):\n",
    "\n",
    "            C2_counts[itemset] += 1\n",
    "L2 = {itemset: count for itemset, count in C2_counts.items() if count >= min_support}\n",
    "\n",
    "print(\"C1 (Candidate 1-Itemsets):\")\n",
    "\n",
    "print(list(item_counts.keys()))\n",
    "\n",
    "print(\"\\nL1 (Frequent 1-Itemsets):\")\n",
    "\n",
    "print(L1)\n",
    "\n",
    "print(\"\\nC2 (Candidate 2-Itemsets):\")\n",
    "\n",
    "print(C2) \n",
    "\n",
    "print(\"\\nL2 (Frequent 2-Itemsets):\")\n",
    "\n",
    "print(L2)"
   ]
  },
  {
   "cell_type": "code",
   "execution_count": null,
   "id": "613ba9a2",
   "metadata": {},
   "outputs": [],
   "source": [
    "C3 = list(combinations(L1.keys(), 3))\n",
    "C3_counts = defaultdict(int)\n",
    "for transaction in transactions:\n",
    "    for itemset in C3:\n",
    "        if all(item in transaction for item in itemset):\n",
    "            C3_counts[itemset] += 1\n",
    "L3 = {itemset: count for itemset, count in C3_counts.items() if count >= min_support}\n",
    "print(C3)\n",
    "print(L3)"
   ]
  },
  {
   "cell_type": "code",
   "execution_count": null,
   "id": "5f343a9e",
   "metadata": {},
   "outputs": [],
   "source": []
  },
  {
   "cell_type": "code",
   "execution_count": null,
   "id": "6bacfa66",
   "metadata": {},
   "outputs": [],
   "source": []
  }
 ],
 "metadata": {
  "kernelspec": {
   "display_name": "Python 3 (ipykernel)",
   "language": "python",
   "name": "python3"
  },
  "language_info": {
   "codemirror_mode": {
    "name": "ipython",
    "version": 3
   },
   "file_extension": ".py",
   "mimetype": "text/x-python",
   "name": "python",
   "nbconvert_exporter": "python",
   "pygments_lexer": "ipython3",
   "version": "3.11.3"
  }
 },
 "nbformat": 4,
 "nbformat_minor": 5
}
